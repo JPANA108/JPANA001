{
 "cells": [
  {
   "cell_type": "code",
   "execution_count": 14,
   "id": "e1086bc1",
   "metadata": {},
   "outputs": [
    {
     "name": "stdout",
     "output_type": "stream",
     "text": [
      "存檔成功\n",
      "TCS總共\n",
      "74筆\n"
     ]
    },
    {
     "name": "stderr",
     "output_type": "stream",
     "text": [
      "C:\\Users\\user\\AppData\\Local\\Programs\\Python\\Python311\\Lib\\site-packages\\pandas\\util\\_decorators.py:211: FutureWarning: the 'encoding' keyword is deprecated and will be removed in a future version. Please take steps to stop the use of 'encoding'\n",
      "  return func(*args, **kwargs)\n"
     ]
    }
   ],
   "source": [
    "import requests\n",
    "from bs4 import BeautifulSoup\n",
    "from html.parser import HTMLParser\n",
    "import pandas as pd\n",
    "import time\n",
    "\n",
    "result_list = []\n",
    "for i in range(1, 6):\n",
    "    pageRequest = requests.get(\n",
    "        'https://crctaiwan.dcat.nycu.edu.tw/ResultsShare.asp?PageSize=15&Page={}&NC_No=&EC_No=&KeyWords=&Order=&orderby=&IsSelect='\n",
    "        .format(i))\n",
    "    soup = BeautifulSoup(pageRequest.content, 'html.parser')\n",
    "    soup.encoding = 'utf-8'\n",
    "    for web in soup.find_all('tr'):\n",
    "        allinfo = web.text\n",
    "        result_list.append([allinfo])\n",
    "        data = pd.DataFrame(result_list)\n",
    "data['num'] = data[0].str.split('\\n\\n', expand=True)[0]\n",
    "data['title'] = data[0].str.split('\\n\\n', expand=True)[1]\n",
    "data['aut'] = (data[0].str.split('\\n\\n',\n",
    "                                 expand=True)[2]).str.split('\\n',\n",
    "                                                            expand=True)[0]\n",
    "data['yr'] = (data[0].str.split('\\n\\n',\n",
    "                                expand=True)[2]).str.split('\\n',\n",
    "                                                           expand=True)[1]\n",
    "\n",
    "SaveFile_Path = r'C:\\Users\\user\\Desktop\\py\\衍伸書目\\台灣傳播調查資料庫_________0907\\官網'  #要儲存檔案的路徑\n",
    "SaveFile_Name = r'TCS'\n",
    "try:\n",
    "    data.to_excel(SaveFile_Path + '\\\\' + SaveFile_Name + \"_\" + \"_\" +\n",
    "                time.strftime(\"%m%d\") + \"_\" + time.strftime(\"%H%M\") + \".xlsx\",\n",
    "                encoding=\"utf_8_sig\",\n",
    "                index=False)  #儲存結果\n",
    "    print(\"存檔成功\")  #最終檔名會加上 1.月份 2.日期 3.時間(時分)\n",
    "    print('TCS總共{}筆'.format(data['num'].iloc[-1]))\n",
    "except:\n",
    "    print(\"存檔失敗，請檢察結果檔是否正在開啟，或處於無法被寫入的狀態。\")"
   ]
  },
  {
   "cell_type": "code",
   "execution_count": 94,
   "id": "495f4a93",
   "metadata": {
    "scrolled": true
   },
   "outputs": [
    {
     "data": {
      "text/html": [
       "<div><div id=681c2bf2-57cf-4673-aafb-acd225806509 style=\"display:none; background-color:#9D6CFF; color:white; width:200px; height:30px; padding-left:5px; border-radius:4px; flex-direction:row; justify-content:space-around; align-items:center;\" onmouseover=\"this.style.backgroundColor='#BA9BF8'\" onmouseout=\"this.style.backgroundColor='#9D6CFF'\" onclick=\"window.commands?.execute('create-mitosheet-from-dataframe-output');\">See Full Dataframe in Mito</div> <script> if (window.commands?.hasCommand('create-mitosheet-from-dataframe-output')) document.getElementById('681c2bf2-57cf-4673-aafb-acd225806509').style.display = 'flex' </script> <table border=\"1\" class=\"dataframe\">\n",
       "  <thead>\n",
       "    <tr style=\"text-align: right;\">\n",
       "      <th></th>\n",
       "      <th>0</th>\n",
       "      <th>num</th>\n",
       "      <th>title</th>\n",
       "      <th>yr</th>\n",
       "      <th>aut</th>\n",
       "    </tr>\n",
       "  </thead>\n",
       "  <tbody>\n",
       "    <tr>\n",
       "      <th>0</th>\n",
       "      <td>\\n#\\n論文名稱\\n作者\\n出版年\\n</td>\n",
       "      <td>\\n#\\n論文名稱\\n作者\\n出版年\\n</td>\n",
       "      <td>None</td>\n",
       "      <td>None</td>\n",
       "      <td>None</td>\n",
       "    </tr>\n",
       "    <tr>\n",
       "      <th>1</th>\n",
       "      <td>\\n1\\n\\n臉書使用動機與行為對於社會資本的影響\\n\\n王嵩音\\n2022\\n</td>\n",
       "      <td>\\n1</td>\n",
       "      <td>臉書使用動機與行為對於社會資本的影響</td>\n",
       "      <td>王嵩音</td>\n",
       "      <td>2022</td>\n",
       "    </tr>\n",
       "    <tr>\n",
       "      <th>2</th>\n",
       "      <td>\\n2\\n\\nZ 世代媒介多工動機與消費決策信心：從眾、任務相關性、與資訊可診斷性之調節連續中介效果\\n\\n張郁敏\\n2022\\n</td>\n",
       "      <td>\\n2</td>\n",
       "      <td>Z 世代媒介多工動機與消費決策信心：從眾、任務相關性、與資訊可診斷性之調節連續中介效果</td>\n",
       "      <td>張郁敏</td>\n",
       "      <td>2022</td>\n",
       "    </tr>\n",
       "    <tr>\n",
       "      <th>3</th>\n",
       "      <td>\\n3\\n\\n活在資訊孤島中？以社會網絡分析探討政黨驅動的閱聽人區隔化現象\\n\\n陳靜君、陶振超\\n2022\\n</td>\n",
       "      <td>\\n3</td>\n",
       "      <td>活在資訊孤島中？以社會網絡分析探討政黨驅動的閱聽人區隔化現象</td>\n",
       "      <td>陳靜君、陶振超</td>\n",
       "      <td>2022</td>\n",
       "    </tr>\n",
       "    <tr>\n",
       "      <th>4</th>\n",
       "      <td>\\n4\\n\\n球迷、認同需求與運動媒介：運動賽事收看行為與娛樂經驗之影響因素分析\\n\\n陳延昇\\n2021\\n</td>\n",
       "      <td>\\n4</td>\n",
       "      <td>球迷、認同需求與運動媒介：運動賽事收看行為與娛樂經驗之影響因素分析</td>\n",
       "      <td>陳延昇</td>\n",
       "      <td>2021</td>\n",
       "    </tr>\n",
       "    <tr>\n",
       "      <th>...</th>\n",
       "      <td>...</td>\n",
       "      <td>...</td>\n",
       "      <td>...</td>\n",
       "      <td>...</td>\n",
       "      <td>...</td>\n",
       "    </tr>\n",
       "    <tr>\n",
       "      <th>74</th>\n",
       "      <td>\\n70\\n\\n媒介使用與投票參與：正向增強或負向抑制？\\n\\n劉念夏\\n2009\\n</td>\n",
       "      <td>\\n70</td>\n",
       "      <td>媒介使用與投票參與：正向增強或負向抑制？</td>\n",
       "      <td>劉念夏</td>\n",
       "      <td>2009</td>\n",
       "    </tr>\n",
       "    <tr>\n",
       "      <th>75</th>\n",
       "      <td>\\n71\\n\\n網路使用之態度、動機與影響\\n\\n王嵩音\\n2007\\n</td>\n",
       "      <td>\\n71</td>\n",
       "      <td>網路使用之態度、動機與影響</td>\n",
       "      <td>王嵩音</td>\n",
       "      <td>2007</td>\n",
       "    </tr>\n",
       "    <tr>\n",
       "      <th>76</th>\n",
       "      <td>\\n72\\n\\n應用資訊通訊科技可以改善“公眾接觸”嗎？台灣個案的分析\\n\\n陳敦源； 李仲彬； 黃東益\\n2007\\n</td>\n",
       "      <td>\\n72</td>\n",
       "      <td>應用資訊通訊科技可以改善“公眾接觸”嗎？台灣個案的分析</td>\n",
       "      <td>陳敦源； 李仲彬； 黃東益</td>\n",
       "      <td>2007</td>\n",
       "    </tr>\n",
       "    <tr>\n",
       "      <th>77</th>\n",
       "      <td>\\n73\\n\\n媒介使用與政治資本\\n\\n陳憶寧；羅文輝\\n2006\\n</td>\n",
       "      <td>\\n73</td>\n",
       "      <td>媒介使用與政治資本</td>\n",
       "      <td>陳憶寧；羅文輝</td>\n",
       "      <td>2006</td>\n",
       "    </tr>\n",
       "    <tr>\n",
       "      <th>78</th>\n",
       "      <td>\\n74\\n\\n網路的功與過： 網路使用與政治參與及社會資產關係的探討\\n\\n張卿卿\\n2006\\n</td>\n",
       "      <td>\\n74</td>\n",
       "      <td>網路的功與過： 網路使用與政治參與及社會資產關係的探討</td>\n",
       "      <td>張卿卿</td>\n",
       "      <td>2006</td>\n",
       "    </tr>\n",
       "  </tbody>\n",
       "</table></div>"
      ],
      "text/plain": [
       "                                                    0                   num  \\\n",
       "0                                \\n#\\n論文名稱\\n作者\\n出版年\\n  \\n#\\n論文名稱\\n作者\\n出版年\\n   \n",
       "1            \\n1\\n\\n臉書使用動機與行為對於社會資本的影響\\n\\n王嵩音\\n2022\\n                   \\n1   \n",
       "2   \\n2\\n\\nZ 世代媒介多工動機與消費決策信心：從眾、任務相關性、與資訊可診斷性之調節連續...                   \\n2   \n",
       "3   \\n3\\n\\n活在資訊孤島中？以社會網絡分析探討政黨驅動的閱聽人區隔化現象\\n\\n陳靜君、陶...                   \\n3   \n",
       "4   \\n4\\n\\n球迷、認同需求與運動媒介：運動賽事收看行為與娛樂經驗之影響因素分析\\n\\n陳延...                   \\n4   \n",
       "..                                                ...                   ...   \n",
       "74        \\n70\\n\\n媒介使用與投票參與：正向增強或負向抑制？\\n\\n劉念夏\\n2009\\n                  \\n70   \n",
       "75               \\n71\\n\\n網路使用之態度、動機與影響\\n\\n王嵩音\\n2007\\n                  \\n71   \n",
       "76  \\n72\\n\\n應用資訊通訊科技可以改善“公眾接觸”嗎？台灣個案的分析\\n\\n陳敦源； 李仲...                  \\n72   \n",
       "77               \\n73\\n\\n媒介使用與政治資本\\n\\n陳憶寧；羅文輝\\n2006\\n                  \\n73   \n",
       "78  \\n74\\n\\n網路的功與過： 網路使用與政治參與及社會資產關係的探討\\n\\n張卿卿\\n20...                  \\n74   \n",
       "\n",
       "                                          title             yr   aut  \n",
       "0                                          None           None  None  \n",
       "1                            臉書使用動機與行為對於社會資本的影響            王嵩音  2022  \n",
       "2   Z 世代媒介多工動機與消費決策信心：從眾、任務相關性、與資訊可診斷性之調節連續中介效果            張郁敏  2022  \n",
       "3                活在資訊孤島中？以社會網絡分析探討政黨驅動的閱聽人區隔化現象        陳靜君、陶振超  2022  \n",
       "4             球迷、認同需求與運動媒介：運動賽事收看行為與娛樂經驗之影響因素分析            陳延昇  2021  \n",
       "..                                          ...            ...   ...  \n",
       "74                         媒介使用與投票參與：正向增強或負向抑制？            劉念夏  2009  \n",
       "75                                網路使用之態度、動機與影響            王嵩音  2007  \n",
       "76                  應用資訊通訊科技可以改善“公眾接觸”嗎？台灣個案的分析  陳敦源； 李仲彬； 黃東益  2007  \n",
       "77                                    媒介使用與政治資本        陳憶寧；羅文輝  2006  \n",
       "78                  網路的功與過： 網路使用與政治參與及社會資產關係的探討            張卿卿  2006  \n",
       "\n",
       "[79 rows x 5 columns]"
      ]
     },
     "execution_count": 94,
     "metadata": {},
     "output_type": "execute_result"
    }
   ],
   "source": []
  },
  {
   "cell_type": "code",
   "execution_count": null,
   "id": "d3f20537",
   "metadata": {},
   "outputs": [],
   "source": []
  },
  {
   "cell_type": "code",
   "execution_count": 50,
   "id": "32dbc103",
   "metadata": {},
   "outputs": [
    {
     "data": {
      "text/plain": [
       "'74\\n\\n網路的功與過： 網路使用與政治參與及社會資產關係的探討\\n\\n張卿卿\\n2006'"
      ]
     },
     "execution_count": 50,
     "metadata": {},
     "output_type": "execute_result"
    }
   ],
   "source": []
  },
  {
   "cell_type": "code",
   "execution_count": null,
   "id": "e5a5e6e6",
   "metadata": {},
   "outputs": [],
   "source": []
  }
 ],
 "metadata": {
  "hide_input": false,
  "kernelspec": {
   "display_name": "Python 3 (ipykernel)",
   "language": "python",
   "name": "python3"
  },
  "language_info": {
   "codemirror_mode": {
    "name": "ipython",
    "version": 3
   },
   "file_extension": ".py",
   "mimetype": "text/x-python",
   "name": "python",
   "nbconvert_exporter": "python",
   "pygments_lexer": "ipython3",
   "version": "3.11.0"
  },
  "toc": {
   "base_numbering": 1,
   "nav_menu": {},
   "number_sections": true,
   "sideBar": true,
   "skip_h1_title": false,
   "title_cell": "Table of Contents",
   "title_sidebar": "Contents",
   "toc_cell": false,
   "toc_position": {},
   "toc_section_display": true,
   "toc_window_display": false
  },
  "varInspector": {
   "cols": {
    "lenName": 16,
    "lenType": 16,
    "lenVar": 40
   },
   "kernels_config": {
    "python": {
     "delete_cmd_postfix": "",
     "delete_cmd_prefix": "del ",
     "library": "var_list.py",
     "varRefreshCmd": "print(var_dic_list())"
    },
    "r": {
     "delete_cmd_postfix": ") ",
     "delete_cmd_prefix": "rm(",
     "library": "var_list.r",
     "varRefreshCmd": "cat(var_dic_list()) "
    }
   },
   "types_to_exclude": [
    "module",
    "function",
    "builtin_function_or_method",
    "instance",
    "_Feature"
   ],
   "window_display": false
  }
 },
 "nbformat": 4,
 "nbformat_minor": 5
}
