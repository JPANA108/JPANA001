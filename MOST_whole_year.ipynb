{
 "cells": [
  {
   "cell_type": "code",
   "execution_count": 29,
   "id": "fcc338c6",
   "metadata": {
    "scrolled": true
   },
   "outputs": [
    {
     "name": "stderr",
     "output_type": "stream",
     "text": [
      "C:\\Users\\user\\AppData\\Local\\Temp\\ipykernel_46476\\3288874620.py:31: DeprecationWarning: executable_path has been deprecated, please pass in a Service object\n",
      "  self.browser = webdriver.Chrome(self.driver_path)\n"
     ]
    },
    {
     "name": "stdout",
     "output_type": "stream",
     "text": [
      "正在爬取MOST110年度\n",
      "搜尋時間： 22/08/03 16:29:02\n",
      "共 13634 筆\n",
      "有 69 頁\n",
      "最後一頁剩 34 筆\n",
      "此步驟為爬取第1頁資料\n"
     ]
    },
    {
     "name": "stderr",
     "output_type": "stream",
     "text": [
      "C:\\Users\\user\\AppData\\Local\\Temp\\ipykernel_46476\\3288874620.py:122: FutureWarning: The frame.append method is deprecated and will be removed from pandas in a future version. Use pandas.concat instead.\n",
      "  res_process = res_process.append(result_df)\n"
     ]
    },
    {
     "name": "stdout",
     "output_type": "stream",
     "text": [
      "此步驟為爬取第2頁資料\n",
      "此步驟為爬取第3頁資料\n",
      "此步驟為爬取第4頁資料\n"
     ]
    },
    {
     "name": "stderr",
     "output_type": "stream",
     "text": [
      "C:\\Users\\user\\AppData\\Local\\Temp\\ipykernel_46476\\3288874620.py:122: FutureWarning: The frame.append method is deprecated and will be removed from pandas in a future version. Use pandas.concat instead.\n",
      "  res_process = res_process.append(result_df)\n"
     ]
    },
    {
     "name": "stdout",
     "output_type": "stream",
     "text": [
      "此步驟為爬取第5頁資料\n"
     ]
    },
    {
     "name": "stderr",
     "output_type": "stream",
     "text": [
      "C:\\Users\\user\\AppData\\Local\\Temp\\ipykernel_46476\\3288874620.py:122: FutureWarning: The frame.append method is deprecated and will be removed from pandas in a future version. Use pandas.concat instead.\n",
      "  res_process = res_process.append(result_df)\n"
     ]
    },
    {
     "name": "stdout",
     "output_type": "stream",
     "text": [
      "此步驟為爬取第6頁資料\n"
     ]
    },
    {
     "name": "stderr",
     "output_type": "stream",
     "text": [
      "C:\\Users\\user\\AppData\\Local\\Temp\\ipykernel_46476\\3288874620.py:122: FutureWarning: The frame.append method is deprecated and will be removed from pandas in a future version. Use pandas.concat instead.\n",
      "  res_process = res_process.append(result_df)\n"
     ]
    },
    {
     "name": "stdout",
     "output_type": "stream",
     "text": [
      "此步驟為爬取第7頁資料\n"
     ]
    },
    {
     "name": "stderr",
     "output_type": "stream",
     "text": [
      "C:\\Users\\user\\AppData\\Local\\Temp\\ipykernel_46476\\3288874620.py:122: FutureWarning: The frame.append method is deprecated and will be removed from pandas in a future version. Use pandas.concat instead.\n",
      "  res_process = res_process.append(result_df)\n"
     ]
    },
    {
     "name": "stdout",
     "output_type": "stream",
     "text": [
      "此步驟為爬取第8頁資料\n"
     ]
    },
    {
     "name": "stderr",
     "output_type": "stream",
     "text": [
      "C:\\Users\\user\\AppData\\Local\\Temp\\ipykernel_46476\\3288874620.py:122: FutureWarning: The frame.append method is deprecated and will be removed from pandas in a future version. Use pandas.concat instead.\n",
      "  res_process = res_process.append(result_df)\n"
     ]
    },
    {
     "name": "stdout",
     "output_type": "stream",
     "text": [
      "此步驟為爬取第9頁資料\n"
     ]
    },
    {
     "name": "stderr",
     "output_type": "stream",
     "text": [
      "C:\\Users\\user\\AppData\\Local\\Temp\\ipykernel_46476\\3288874620.py:122: FutureWarning: The frame.append method is deprecated and will be removed from pandas in a future version. Use pandas.concat instead.\n",
      "  res_process = res_process.append(result_df)\n"
     ]
    },
    {
     "name": "stdout",
     "output_type": "stream",
     "text": [
      "此步驟為爬取第10頁資料\n"
     ]
    },
    {
     "name": "stderr",
     "output_type": "stream",
     "text": [
      "C:\\Users\\user\\AppData\\Local\\Temp\\ipykernel_46476\\3288874620.py:122: FutureWarning: The frame.append method is deprecated and will be removed from pandas in a future version. Use pandas.concat instead.\n",
      "  res_process = res_process.append(result_df)\n"
     ]
    },
    {
     "name": "stdout",
     "output_type": "stream",
     "text": [
      "此步驟為爬取第11頁資料\n"
     ]
    },
    {
     "name": "stderr",
     "output_type": "stream",
     "text": [
      "C:\\Users\\user\\AppData\\Local\\Temp\\ipykernel_46476\\3288874620.py:122: FutureWarning: The frame.append method is deprecated and will be removed from pandas in a future version. Use pandas.concat instead.\n",
      "  res_process = res_process.append(result_df)\n"
     ]
    },
    {
     "name": "stdout",
     "output_type": "stream",
     "text": [
      "此步驟為爬取第12頁資料\n"
     ]
    },
    {
     "name": "stderr",
     "output_type": "stream",
     "text": [
      "C:\\Users\\user\\AppData\\Local\\Temp\\ipykernel_46476\\3288874620.py:122: FutureWarning: The frame.append method is deprecated and will be removed from pandas in a future version. Use pandas.concat instead.\n",
      "  res_process = res_process.append(result_df)\n"
     ]
    },
    {
     "name": "stdout",
     "output_type": "stream",
     "text": [
      "此步驟為爬取第13頁資料\n"
     ]
    },
    {
     "name": "stderr",
     "output_type": "stream",
     "text": [
      "C:\\Users\\user\\AppData\\Local\\Temp\\ipykernel_46476\\3288874620.py:122: FutureWarning: The frame.append method is deprecated and will be removed from pandas in a future version. Use pandas.concat instead.\n",
      "  res_process = res_process.append(result_df)\n"
     ]
    },
    {
     "name": "stdout",
     "output_type": "stream",
     "text": [
      "此步驟為爬取第14頁資料\n"
     ]
    },
    {
     "name": "stderr",
     "output_type": "stream",
     "text": [
      "C:\\Users\\user\\AppData\\Local\\Temp\\ipykernel_46476\\3288874620.py:122: FutureWarning: The frame.append method is deprecated and will be removed from pandas in a future version. Use pandas.concat instead.\n",
      "  res_process = res_process.append(result_df)\n"
     ]
    },
    {
     "name": "stdout",
     "output_type": "stream",
     "text": [
      "此步驟為爬取第15頁資料\n"
     ]
    },
    {
     "name": "stderr",
     "output_type": "stream",
     "text": [
      "C:\\Users\\user\\AppData\\Local\\Temp\\ipykernel_46476\\3288874620.py:122: FutureWarning: The frame.append method is deprecated and will be removed from pandas in a future version. Use pandas.concat instead.\n",
      "  res_process = res_process.append(result_df)\n"
     ]
    },
    {
     "name": "stdout",
     "output_type": "stream",
     "text": [
      "此步驟為爬取第16頁資料\n"
     ]
    },
    {
     "name": "stderr",
     "output_type": "stream",
     "text": [
      "C:\\Users\\user\\AppData\\Local\\Temp\\ipykernel_46476\\3288874620.py:122: FutureWarning: The frame.append method is deprecated and will be removed from pandas in a future version. Use pandas.concat instead.\n",
      "  res_process = res_process.append(result_df)\n"
     ]
    },
    {
     "name": "stdout",
     "output_type": "stream",
     "text": [
      "此步驟為爬取第17頁資料\n"
     ]
    },
    {
     "name": "stderr",
     "output_type": "stream",
     "text": [
      "C:\\Users\\user\\AppData\\Local\\Temp\\ipykernel_46476\\3288874620.py:122: FutureWarning: The frame.append method is deprecated and will be removed from pandas in a future version. Use pandas.concat instead.\n",
      "  res_process = res_process.append(result_df)\n"
     ]
    },
    {
     "name": "stdout",
     "output_type": "stream",
     "text": [
      "此步驟為爬取第18頁資料\n"
     ]
    },
    {
     "name": "stderr",
     "output_type": "stream",
     "text": [
      "C:\\Users\\user\\AppData\\Local\\Temp\\ipykernel_46476\\3288874620.py:122: FutureWarning: The frame.append method is deprecated and will be removed from pandas in a future version. Use pandas.concat instead.\n",
      "  res_process = res_process.append(result_df)\n"
     ]
    },
    {
     "name": "stdout",
     "output_type": "stream",
     "text": [
      "此步驟為爬取第19頁資料\n"
     ]
    },
    {
     "name": "stderr",
     "output_type": "stream",
     "text": [
      "C:\\Users\\user\\AppData\\Local\\Temp\\ipykernel_46476\\3288874620.py:122: FutureWarning: The frame.append method is deprecated and will be removed from pandas in a future version. Use pandas.concat instead.\n",
      "  res_process = res_process.append(result_df)\n"
     ]
    },
    {
     "name": "stdout",
     "output_type": "stream",
     "text": [
      "此步驟為爬取第20頁資料\n"
     ]
    },
    {
     "name": "stderr",
     "output_type": "stream",
     "text": [
      "C:\\Users\\user\\AppData\\Local\\Temp\\ipykernel_46476\\3288874620.py:122: FutureWarning: The frame.append method is deprecated and will be removed from pandas in a future version. Use pandas.concat instead.\n",
      "  res_process = res_process.append(result_df)\n"
     ]
    },
    {
     "name": "stdout",
     "output_type": "stream",
     "text": [
      "此步驟為爬取第21頁資料\n"
     ]
    },
    {
     "name": "stderr",
     "output_type": "stream",
     "text": [
      "C:\\Users\\user\\AppData\\Local\\Temp\\ipykernel_46476\\3288874620.py:122: FutureWarning: The frame.append method is deprecated and will be removed from pandas in a future version. Use pandas.concat instead.\n",
      "  res_process = res_process.append(result_df)\n"
     ]
    },
    {
     "name": "stdout",
     "output_type": "stream",
     "text": [
      "此步驟為爬取第22頁資料\n"
     ]
    },
    {
     "name": "stderr",
     "output_type": "stream",
     "text": [
      "C:\\Users\\user\\AppData\\Local\\Temp\\ipykernel_46476\\3288874620.py:122: FutureWarning: The frame.append method is deprecated and will be removed from pandas in a future version. Use pandas.concat instead.\n",
      "  res_process = res_process.append(result_df)\n"
     ]
    },
    {
     "name": "stdout",
     "output_type": "stream",
     "text": [
      "此步驟為爬取第23頁資料\n"
     ]
    },
    {
     "name": "stderr",
     "output_type": "stream",
     "text": [
      "C:\\Users\\user\\AppData\\Local\\Temp\\ipykernel_46476\\3288874620.py:122: FutureWarning: The frame.append method is deprecated and will be removed from pandas in a future version. Use pandas.concat instead.\n",
      "  res_process = res_process.append(result_df)\n"
     ]
    },
    {
     "name": "stdout",
     "output_type": "stream",
     "text": [
      "此步驟為爬取第24頁資料\n"
     ]
    },
    {
     "name": "stderr",
     "output_type": "stream",
     "text": [
      "C:\\Users\\user\\AppData\\Local\\Temp\\ipykernel_46476\\3288874620.py:122: FutureWarning: The frame.append method is deprecated and will be removed from pandas in a future version. Use pandas.concat instead.\n",
      "  res_process = res_process.append(result_df)\n"
     ]
    },
    {
     "name": "stdout",
     "output_type": "stream",
     "text": [
      "此步驟為爬取第25頁資料\n"
     ]
    },
    {
     "name": "stderr",
     "output_type": "stream",
     "text": [
      "C:\\Users\\user\\AppData\\Local\\Temp\\ipykernel_46476\\3288874620.py:122: FutureWarning: The frame.append method is deprecated and will be removed from pandas in a future version. Use pandas.concat instead.\n",
      "  res_process = res_process.append(result_df)\n"
     ]
    },
    {
     "name": "stdout",
     "output_type": "stream",
     "text": [
      "此步驟為爬取第26頁資料\n"
     ]
    },
    {
     "name": "stderr",
     "output_type": "stream",
     "text": [
      "C:\\Users\\user\\AppData\\Local\\Temp\\ipykernel_46476\\3288874620.py:122: FutureWarning: The frame.append method is deprecated and will be removed from pandas in a future version. Use pandas.concat instead.\n",
      "  res_process = res_process.append(result_df)\n"
     ]
    },
    {
     "name": "stdout",
     "output_type": "stream",
     "text": [
      "此步驟為爬取第27頁資料\n"
     ]
    },
    {
     "name": "stderr",
     "output_type": "stream",
     "text": [
      "C:\\Users\\user\\AppData\\Local\\Temp\\ipykernel_46476\\3288874620.py:122: FutureWarning: The frame.append method is deprecated and will be removed from pandas in a future version. Use pandas.concat instead.\n",
      "  res_process = res_process.append(result_df)\n"
     ]
    },
    {
     "name": "stdout",
     "output_type": "stream",
     "text": [
      "此步驟為爬取第28頁資料\n"
     ]
    },
    {
     "name": "stderr",
     "output_type": "stream",
     "text": [
      "C:\\Users\\user\\AppData\\Local\\Temp\\ipykernel_46476\\3288874620.py:122: FutureWarning: The frame.append method is deprecated and will be removed from pandas in a future version. Use pandas.concat instead.\n",
      "  res_process = res_process.append(result_df)\n"
     ]
    },
    {
     "name": "stdout",
     "output_type": "stream",
     "text": [
      "此步驟為爬取第29頁資料\n"
     ]
    },
    {
     "name": "stderr",
     "output_type": "stream",
     "text": [
      "C:\\Users\\user\\AppData\\Local\\Temp\\ipykernel_46476\\3288874620.py:122: FutureWarning: The frame.append method is deprecated and will be removed from pandas in a future version. Use pandas.concat instead.\n",
      "  res_process = res_process.append(result_df)\n"
     ]
    },
    {
     "name": "stdout",
     "output_type": "stream",
     "text": [
      "此步驟為爬取第30頁資料\n"
     ]
    },
    {
     "name": "stderr",
     "output_type": "stream",
     "text": [
      "C:\\Users\\user\\AppData\\Local\\Temp\\ipykernel_46476\\3288874620.py:122: FutureWarning: The frame.append method is deprecated and will be removed from pandas in a future version. Use pandas.concat instead.\n",
      "  res_process = res_process.append(result_df)\n"
     ]
    },
    {
     "name": "stdout",
     "output_type": "stream",
     "text": [
      "此步驟為爬取第31頁資料\n"
     ]
    },
    {
     "name": "stderr",
     "output_type": "stream",
     "text": [
      "C:\\Users\\user\\AppData\\Local\\Temp\\ipykernel_46476\\3288874620.py:122: FutureWarning: The frame.append method is deprecated and will be removed from pandas in a future version. Use pandas.concat instead.\n",
      "  res_process = res_process.append(result_df)\n"
     ]
    },
    {
     "name": "stdout",
     "output_type": "stream",
     "text": [
      "此步驟為爬取第32頁資料\n"
     ]
    },
    {
     "name": "stderr",
     "output_type": "stream",
     "text": [
      "C:\\Users\\user\\AppData\\Local\\Temp\\ipykernel_46476\\3288874620.py:122: FutureWarning: The frame.append method is deprecated and will be removed from pandas in a future version. Use pandas.concat instead.\n",
      "  res_process = res_process.append(result_df)\n"
     ]
    },
    {
     "name": "stdout",
     "output_type": "stream",
     "text": [
      "此步驟為爬取第33頁資料\n"
     ]
    },
    {
     "name": "stderr",
     "output_type": "stream",
     "text": [
      "C:\\Users\\user\\AppData\\Local\\Temp\\ipykernel_46476\\3288874620.py:122: FutureWarning: The frame.append method is deprecated and will be removed from pandas in a future version. Use pandas.concat instead.\n",
      "  res_process = res_process.append(result_df)\n"
     ]
    },
    {
     "name": "stdout",
     "output_type": "stream",
     "text": [
      "此步驟為爬取第34頁資料\n"
     ]
    },
    {
     "name": "stderr",
     "output_type": "stream",
     "text": [
      "C:\\Users\\user\\AppData\\Local\\Temp\\ipykernel_46476\\3288874620.py:122: FutureWarning: The frame.append method is deprecated and will be removed from pandas in a future version. Use pandas.concat instead.\n",
      "  res_process = res_process.append(result_df)\n"
     ]
    },
    {
     "name": "stdout",
     "output_type": "stream",
     "text": [
      "此步驟為爬取第35頁資料\n"
     ]
    },
    {
     "name": "stderr",
     "output_type": "stream",
     "text": [
      "C:\\Users\\user\\AppData\\Local\\Temp\\ipykernel_46476\\3288874620.py:122: FutureWarning: The frame.append method is deprecated and will be removed from pandas in a future version. Use pandas.concat instead.\n",
      "  res_process = res_process.append(result_df)\n"
     ]
    },
    {
     "name": "stdout",
     "output_type": "stream",
     "text": [
      "此步驟為爬取第36頁資料\n"
     ]
    },
    {
     "name": "stderr",
     "output_type": "stream",
     "text": [
      "C:\\Users\\user\\AppData\\Local\\Temp\\ipykernel_46476\\3288874620.py:122: FutureWarning: The frame.append method is deprecated and will be removed from pandas in a future version. Use pandas.concat instead.\n",
      "  res_process = res_process.append(result_df)\n"
     ]
    },
    {
     "name": "stdout",
     "output_type": "stream",
     "text": [
      "此步驟為爬取第37頁資料\n"
     ]
    },
    {
     "name": "stderr",
     "output_type": "stream",
     "text": [
      "C:\\Users\\user\\AppData\\Local\\Temp\\ipykernel_46476\\3288874620.py:122: FutureWarning: The frame.append method is deprecated and will be removed from pandas in a future version. Use pandas.concat instead.\n",
      "  res_process = res_process.append(result_df)\n"
     ]
    },
    {
     "name": "stdout",
     "output_type": "stream",
     "text": [
      "此步驟為爬取第38頁資料\n"
     ]
    },
    {
     "name": "stderr",
     "output_type": "stream",
     "text": [
      "C:\\Users\\user\\AppData\\Local\\Temp\\ipykernel_46476\\3288874620.py:122: FutureWarning: The frame.append method is deprecated and will be removed from pandas in a future version. Use pandas.concat instead.\n",
      "  res_process = res_process.append(result_df)\n"
     ]
    },
    {
     "name": "stdout",
     "output_type": "stream",
     "text": [
      "此步驟為爬取第39頁資料\n"
     ]
    },
    {
     "name": "stderr",
     "output_type": "stream",
     "text": [
      "C:\\Users\\user\\AppData\\Local\\Temp\\ipykernel_46476\\3288874620.py:122: FutureWarning: The frame.append method is deprecated and will be removed from pandas in a future version. Use pandas.concat instead.\n",
      "  res_process = res_process.append(result_df)\n"
     ]
    },
    {
     "name": "stdout",
     "output_type": "stream",
     "text": [
      "此步驟為爬取第40頁資料\n"
     ]
    },
    {
     "name": "stderr",
     "output_type": "stream",
     "text": [
      "C:\\Users\\user\\AppData\\Local\\Temp\\ipykernel_46476\\3288874620.py:122: FutureWarning: The frame.append method is deprecated and will be removed from pandas in a future version. Use pandas.concat instead.\n",
      "  res_process = res_process.append(result_df)\n"
     ]
    },
    {
     "name": "stdout",
     "output_type": "stream",
     "text": [
      "此步驟為爬取第41頁資料\n"
     ]
    },
    {
     "name": "stderr",
     "output_type": "stream",
     "text": [
      "C:\\Users\\user\\AppData\\Local\\Temp\\ipykernel_46476\\3288874620.py:122: FutureWarning: The frame.append method is deprecated and will be removed from pandas in a future version. Use pandas.concat instead.\n",
      "  res_process = res_process.append(result_df)\n"
     ]
    },
    {
     "name": "stdout",
     "output_type": "stream",
     "text": [
      "此步驟為爬取第42頁資料\n"
     ]
    },
    {
     "name": "stderr",
     "output_type": "stream",
     "text": [
      "C:\\Users\\user\\AppData\\Local\\Temp\\ipykernel_46476\\3288874620.py:122: FutureWarning: The frame.append method is deprecated and will be removed from pandas in a future version. Use pandas.concat instead.\n",
      "  res_process = res_process.append(result_df)\n"
     ]
    },
    {
     "name": "stdout",
     "output_type": "stream",
     "text": [
      "此步驟為爬取第43頁資料\n"
     ]
    },
    {
     "name": "stderr",
     "output_type": "stream",
     "text": [
      "C:\\Users\\user\\AppData\\Local\\Temp\\ipykernel_46476\\3288874620.py:122: FutureWarning: The frame.append method is deprecated and will be removed from pandas in a future version. Use pandas.concat instead.\n",
      "  res_process = res_process.append(result_df)\n"
     ]
    },
    {
     "name": "stdout",
     "output_type": "stream",
     "text": [
      "此步驟為爬取第44頁資料\n"
     ]
    },
    {
     "name": "stderr",
     "output_type": "stream",
     "text": [
      "C:\\Users\\user\\AppData\\Local\\Temp\\ipykernel_46476\\3288874620.py:122: FutureWarning: The frame.append method is deprecated and will be removed from pandas in a future version. Use pandas.concat instead.\n",
      "  res_process = res_process.append(result_df)\n"
     ]
    },
    {
     "name": "stdout",
     "output_type": "stream",
     "text": [
      "此步驟為爬取第45頁資料\n"
     ]
    },
    {
     "name": "stderr",
     "output_type": "stream",
     "text": [
      "C:\\Users\\user\\AppData\\Local\\Temp\\ipykernel_46476\\3288874620.py:122: FutureWarning: The frame.append method is deprecated and will be removed from pandas in a future version. Use pandas.concat instead.\n",
      "  res_process = res_process.append(result_df)\n"
     ]
    },
    {
     "name": "stdout",
     "output_type": "stream",
     "text": [
      "此步驟為爬取第46頁資料\n"
     ]
    },
    {
     "name": "stderr",
     "output_type": "stream",
     "text": [
      "C:\\Users\\user\\AppData\\Local\\Temp\\ipykernel_46476\\3288874620.py:122: FutureWarning: The frame.append method is deprecated and will be removed from pandas in a future version. Use pandas.concat instead.\n",
      "  res_process = res_process.append(result_df)\n"
     ]
    },
    {
     "name": "stdout",
     "output_type": "stream",
     "text": [
      "此步驟為爬取第47頁資料\n"
     ]
    },
    {
     "name": "stderr",
     "output_type": "stream",
     "text": [
      "C:\\Users\\user\\AppData\\Local\\Temp\\ipykernel_46476\\3288874620.py:122: FutureWarning: The frame.append method is deprecated and will be removed from pandas in a future version. Use pandas.concat instead.\n",
      "  res_process = res_process.append(result_df)\n"
     ]
    },
    {
     "name": "stdout",
     "output_type": "stream",
     "text": [
      "此步驟為爬取第48頁資料\n"
     ]
    },
    {
     "name": "stderr",
     "output_type": "stream",
     "text": [
      "C:\\Users\\user\\AppData\\Local\\Temp\\ipykernel_46476\\3288874620.py:122: FutureWarning: The frame.append method is deprecated and will be removed from pandas in a future version. Use pandas.concat instead.\n",
      "  res_process = res_process.append(result_df)\n"
     ]
    },
    {
     "name": "stdout",
     "output_type": "stream",
     "text": [
      "此步驟為爬取第49頁資料\n"
     ]
    },
    {
     "name": "stderr",
     "output_type": "stream",
     "text": [
      "C:\\Users\\user\\AppData\\Local\\Temp\\ipykernel_46476\\3288874620.py:122: FutureWarning: The frame.append method is deprecated and will be removed from pandas in a future version. Use pandas.concat instead.\n",
      "  res_process = res_process.append(result_df)\n"
     ]
    },
    {
     "name": "stdout",
     "output_type": "stream",
     "text": [
      "此步驟為爬取第50頁資料\n"
     ]
    },
    {
     "name": "stderr",
     "output_type": "stream",
     "text": [
      "C:\\Users\\user\\AppData\\Local\\Temp\\ipykernel_46476\\3288874620.py:122: FutureWarning: The frame.append method is deprecated and will be removed from pandas in a future version. Use pandas.concat instead.\n",
      "  res_process = res_process.append(result_df)\n"
     ]
    },
    {
     "name": "stdout",
     "output_type": "stream",
     "text": [
      "此步驟為爬取第51頁資料\n"
     ]
    },
    {
     "name": "stderr",
     "output_type": "stream",
     "text": [
      "C:\\Users\\user\\AppData\\Local\\Temp\\ipykernel_46476\\3288874620.py:122: FutureWarning: The frame.append method is deprecated and will be removed from pandas in a future version. Use pandas.concat instead.\n",
      "  res_process = res_process.append(result_df)\n"
     ]
    },
    {
     "name": "stdout",
     "output_type": "stream",
     "text": [
      "此步驟為爬取第52頁資料\n"
     ]
    },
    {
     "name": "stderr",
     "output_type": "stream",
     "text": [
      "C:\\Users\\user\\AppData\\Local\\Temp\\ipykernel_46476\\3288874620.py:122: FutureWarning: The frame.append method is deprecated and will be removed from pandas in a future version. Use pandas.concat instead.\n",
      "  res_process = res_process.append(result_df)\n"
     ]
    },
    {
     "name": "stdout",
     "output_type": "stream",
     "text": [
      "此步驟為爬取第53頁資料\n"
     ]
    },
    {
     "name": "stderr",
     "output_type": "stream",
     "text": [
      "C:\\Users\\user\\AppData\\Local\\Temp\\ipykernel_46476\\3288874620.py:122: FutureWarning: The frame.append method is deprecated and will be removed from pandas in a future version. Use pandas.concat instead.\n",
      "  res_process = res_process.append(result_df)\n"
     ]
    },
    {
     "name": "stdout",
     "output_type": "stream",
     "text": [
      "此步驟為爬取第54頁資料\n"
     ]
    },
    {
     "name": "stderr",
     "output_type": "stream",
     "text": [
      "C:\\Users\\user\\AppData\\Local\\Temp\\ipykernel_46476\\3288874620.py:122: FutureWarning: The frame.append method is deprecated and will be removed from pandas in a future version. Use pandas.concat instead.\n",
      "  res_process = res_process.append(result_df)\n"
     ]
    },
    {
     "name": "stdout",
     "output_type": "stream",
     "text": [
      "此步驟為爬取第55頁資料\n"
     ]
    },
    {
     "name": "stderr",
     "output_type": "stream",
     "text": [
      "C:\\Users\\user\\AppData\\Local\\Temp\\ipykernel_46476\\3288874620.py:122: FutureWarning: The frame.append method is deprecated and will be removed from pandas in a future version. Use pandas.concat instead.\n",
      "  res_process = res_process.append(result_df)\n"
     ]
    },
    {
     "name": "stdout",
     "output_type": "stream",
     "text": [
      "此步驟為爬取第56頁資料\n"
     ]
    },
    {
     "name": "stderr",
     "output_type": "stream",
     "text": [
      "C:\\Users\\user\\AppData\\Local\\Temp\\ipykernel_46476\\3288874620.py:122: FutureWarning: The frame.append method is deprecated and will be removed from pandas in a future version. Use pandas.concat instead.\n",
      "  res_process = res_process.append(result_df)\n"
     ]
    },
    {
     "name": "stdout",
     "output_type": "stream",
     "text": [
      "此步驟為爬取第57頁資料\n"
     ]
    },
    {
     "name": "stderr",
     "output_type": "stream",
     "text": [
      "C:\\Users\\user\\AppData\\Local\\Temp\\ipykernel_46476\\3288874620.py:122: FutureWarning: The frame.append method is deprecated and will be removed from pandas in a future version. Use pandas.concat instead.\n",
      "  res_process = res_process.append(result_df)\n"
     ]
    },
    {
     "name": "stdout",
     "output_type": "stream",
     "text": [
      "此步驟為爬取第58頁資料\n"
     ]
    },
    {
     "name": "stderr",
     "output_type": "stream",
     "text": [
      "C:\\Users\\user\\AppData\\Local\\Temp\\ipykernel_46476\\3288874620.py:122: FutureWarning: The frame.append method is deprecated and will be removed from pandas in a future version. Use pandas.concat instead.\n",
      "  res_process = res_process.append(result_df)\n"
     ]
    },
    {
     "name": "stdout",
     "output_type": "stream",
     "text": [
      "此步驟為爬取第59頁資料\n"
     ]
    },
    {
     "name": "stderr",
     "output_type": "stream",
     "text": [
      "C:\\Users\\user\\AppData\\Local\\Temp\\ipykernel_46476\\3288874620.py:122: FutureWarning: The frame.append method is deprecated and will be removed from pandas in a future version. Use pandas.concat instead.\n",
      "  res_process = res_process.append(result_df)\n"
     ]
    },
    {
     "name": "stdout",
     "output_type": "stream",
     "text": [
      "此步驟為爬取第60頁資料\n"
     ]
    },
    {
     "name": "stderr",
     "output_type": "stream",
     "text": [
      "C:\\Users\\user\\AppData\\Local\\Temp\\ipykernel_46476\\3288874620.py:122: FutureWarning: The frame.append method is deprecated and will be removed from pandas in a future version. Use pandas.concat instead.\n",
      "  res_process = res_process.append(result_df)\n"
     ]
    },
    {
     "name": "stdout",
     "output_type": "stream",
     "text": [
      "此步驟為爬取第61頁資料\n"
     ]
    },
    {
     "name": "stderr",
     "output_type": "stream",
     "text": [
      "C:\\Users\\user\\AppData\\Local\\Temp\\ipykernel_46476\\3288874620.py:122: FutureWarning: The frame.append method is deprecated and will be removed from pandas in a future version. Use pandas.concat instead.\n",
      "  res_process = res_process.append(result_df)\n"
     ]
    },
    {
     "name": "stdout",
     "output_type": "stream",
     "text": [
      "此步驟為爬取第62頁資料\n"
     ]
    },
    {
     "name": "stderr",
     "output_type": "stream",
     "text": [
      "C:\\Users\\user\\AppData\\Local\\Temp\\ipykernel_46476\\3288874620.py:122: FutureWarning: The frame.append method is deprecated and will be removed from pandas in a future version. Use pandas.concat instead.\n",
      "  res_process = res_process.append(result_df)\n"
     ]
    },
    {
     "name": "stdout",
     "output_type": "stream",
     "text": [
      "此步驟為爬取第63頁資料\n"
     ]
    },
    {
     "name": "stderr",
     "output_type": "stream",
     "text": [
      "C:\\Users\\user\\AppData\\Local\\Temp\\ipykernel_46476\\3288874620.py:122: FutureWarning: The frame.append method is deprecated and will be removed from pandas in a future version. Use pandas.concat instead.\n",
      "  res_process = res_process.append(result_df)\n"
     ]
    },
    {
     "name": "stdout",
     "output_type": "stream",
     "text": [
      "此步驟為爬取第64頁資料\n"
     ]
    },
    {
     "name": "stderr",
     "output_type": "stream",
     "text": [
      "C:\\Users\\user\\AppData\\Local\\Temp\\ipykernel_46476\\3288874620.py:122: FutureWarning: The frame.append method is deprecated and will be removed from pandas in a future version. Use pandas.concat instead.\n",
      "  res_process = res_process.append(result_df)\n"
     ]
    },
    {
     "name": "stdout",
     "output_type": "stream",
     "text": [
      "此步驟為爬取第65頁資料\n"
     ]
    },
    {
     "name": "stderr",
     "output_type": "stream",
     "text": [
      "C:\\Users\\user\\AppData\\Local\\Temp\\ipykernel_46476\\3288874620.py:122: FutureWarning: The frame.append method is deprecated and will be removed from pandas in a future version. Use pandas.concat instead.\n",
      "  res_process = res_process.append(result_df)\n"
     ]
    },
    {
     "name": "stdout",
     "output_type": "stream",
     "text": [
      "此步驟為爬取第66頁資料\n"
     ]
    },
    {
     "name": "stderr",
     "output_type": "stream",
     "text": [
      "C:\\Users\\user\\AppData\\Local\\Temp\\ipykernel_46476\\3288874620.py:122: FutureWarning: The frame.append method is deprecated and will be removed from pandas in a future version. Use pandas.concat instead.\n",
      "  res_process = res_process.append(result_df)\n"
     ]
    },
    {
     "name": "stdout",
     "output_type": "stream",
     "text": [
      "此步驟為爬取第67頁資料\n"
     ]
    },
    {
     "name": "stderr",
     "output_type": "stream",
     "text": [
      "C:\\Users\\user\\AppData\\Local\\Temp\\ipykernel_46476\\3288874620.py:122: FutureWarning: The frame.append method is deprecated and will be removed from pandas in a future version. Use pandas.concat instead.\n",
      "  res_process = res_process.append(result_df)\n"
     ]
    },
    {
     "name": "stdout",
     "output_type": "stream",
     "text": [
      "此步驟為爬取第68頁資料\n"
     ]
    },
    {
     "name": "stderr",
     "output_type": "stream",
     "text": [
      "C:\\Users\\user\\AppData\\Local\\Temp\\ipykernel_46476\\3288874620.py:122: FutureWarning: The frame.append method is deprecated and will be removed from pandas in a future version. Use pandas.concat instead.\n",
      "  res_process = res_process.append(result_df)\n"
     ]
    },
    {
     "name": "stdout",
     "output_type": "stream",
     "text": [
      "此步驟為爬取最終頁資料\n"
     ]
    },
    {
     "name": "stderr",
     "output_type": "stream",
     "text": [
      "C:\\Users\\user\\AppData\\Local\\Temp\\ipykernel_46476\\3288874620.py:137: FutureWarning: The frame.append method is deprecated and will be removed from pandas in a future version. Use pandas.concat instead.\n",
      "  res_process = res_process.append(result_df)\n",
      "C:\\Users\\user\\AppData\\Local\\Temp\\ipykernel_46476\\3288874620.py:138: FutureWarning: The frame.append method is deprecated and will be removed from pandas in a future version. Use pandas.concat instead.\n",
      "  res_all = res_all.append(res_process)\n"
     ]
    },
    {
     "name": "stdout",
     "output_type": "stream",
     "text": [
      "爬蟲成功\n",
      "成功爬取MOST110年度\n"
     ]
    }
   ],
   "source": [
    "from selenium import webdriver\n",
    "from selenium.webdriver.chrome.service import Service\n",
    "from selenium.webdriver.common.by import By\n",
    "from selenium.webdriver.support.ui import Select\n",
    "from selenium.webdriver.support.ui import WebDriverWait\n",
    "from selenium.webdriver.support import expected_conditions as EC\n",
    "from bs4 import BeautifulSoup\n",
    "import pandas as pd\n",
    "import numpy as np\n",
    "from glob import glob\n",
    "import time\n",
    "import random\n",
    "import requests\n",
    "import os\n",
    "import glob\n",
    "import re\n",
    "import csv\n",
    "\n",
    "\n",
    "class MOST_whole_year():\n",
    "\n",
    "    def __init__(self, driver_path, download_path,\n",
    "                 crawler_year):  #Class member\n",
    "        self.url_to_crawl = 'https://wsts.nstc.gov.tw/STSWeb/Award/AwardMultiQuery.aspx'\n",
    "        self.driver_path = driver_path\n",
    "        self.crawler_year = crawler_year\n",
    "        self.SaveFile_Path = SaveFile_Path\n",
    "        self.SaveFile_Name = SaveFile_Name        \n",
    "        \n",
    "    def start(self):\n",
    "        self.browser = webdriver.Chrome(self.driver_path)\n",
    "        self.browser.maximize_window()\n",
    "\n",
    "    def get_page(self, url):\n",
    "        self.browser.get(url)\n",
    "        time.sleep(3)\n",
    "\n",
    "    def search_work(self):\n",
    "        #點擊「科技部補助研究計畫」\n",
    "        self.browser.find_element(By.ID, 'dtlItem_btnItem_0').click()\n",
    "        Select(self.browser.find_element(By.XPATH, '//*[@id=\"wUctlAwardQueryPage_repQuery_ddlYRst_0\"]')).select_by_value(str(crawler_year))\n",
    "        WebDriverWait(self.browser, 30).until(  #等待網頁讀取 直到出現 \"搜尋框\"  可視為「等待」的指令\n",
    "            EC.presence_of_element_located((By.ID, \"wUctlAwardQueryPage_repQuery_txtT_4\")))\n",
    "        Select(self.browser.find_element(By.XPATH, '//*[@id=\"wUctlAwardQueryPage_repQuery_ddlYRend_0\"]')).select_by_value(str(crawler_year))\n",
    "        WebDriverWait(self.browser, 30).until(  #等待網頁讀取 直到出現 \"搜尋框\"  可視為「等待」的指令\n",
    "            EC.presence_of_element_located((By.ID, \"wUctlAwardQueryPage_repQuery_txtT_4\")))\n",
    "        # 設定顯示頁數  選到每頁200筆資料 \n",
    "        self.browser.find_element(By.ID, 'wUctlAwardQueryPage_ddlPageSize').click()\n",
    "        WebDriverWait(self.browser, 30).until(  #等待網頁讀取 直到出現 \"搜尋框\"  可視為「等待」的指令\n",
    "            EC.presence_of_element_located((By.ID, \"wUctlAwardQueryPage_repQuery_txtT_4\")))\n",
    "        self.browser.find_element(By.XPATH,'//*[@id=\"wUctlAwardQueryPage_ddlPageSize\"]/option[6]').click()\n",
    "        WebDriverWait(self.browser, 30).until(  #等待網頁讀取 直到出現 \"搜尋框\"  可視為「等待」的指令\n",
    "            EC.presence_of_element_located((By.ID, \"wUctlAwardQueryPage_repQuery_txtT_4\")))\n",
    "        #解析html架構並儲存成資料\n",
    "        soup = BeautifulSoup(self.browser.page_source, 'lxml')\n",
    "        # print(soup.prettify())\n",
    "        print('搜尋時間： ' + time.strftime(\"%y/%m/%d\") + ' ' +time.strftime(\"%H:%M:%S\"))\n",
    "        # 確認頁數\n",
    "        #pagevalue 是每一頁的顯示筆數，固定不動\n",
    "        self.pagevalue = 200\n",
    "        page_find_all = soup.find(\"span\", id='wUctlAwardQueryPage_grdResult_lblPage').string\n",
    "        page_str = ([int(page) for page in re.findall(r'-?\\d+\\.?\\d*', page_find_all)])\n",
    "        page_int = int(page_str[1])  #筆數\n",
    "        page_last = page_int % int(self.pagevalue)\n",
    "        if page_int % int(self.pagevalue) == 0:\n",
    "            self.page_all = page_int // int(self.pagevalue)\n",
    "        else:\n",
    "            self.page_all = (page_int // int(self.pagevalue)) + 1  #頁數\n",
    "        print('共 ' + str(page_int) + ' 筆')\n",
    "        print('有 ' + str(self.page_all) + ' 頁')\n",
    "        print('最後一頁剩 ' + str(page_last) + ' 筆')\n",
    "\n",
    "    def download_file(self, soup):\n",
    "        result_list = []\n",
    "        try:\n",
    "            for x in range(0, self.pagevalue):\n",
    "                try:\n",
    "                    self.title = soup.find(\"span\", {'id':'wUctlAwardQueryPage_grdResult_lblAWARD_PLAN_CHI_DESCc_{}'.format(x)}).text\n",
    "                except:\n",
    "                    self.title = ''\n",
    "                try:\n",
    "                    self.starend = soup.find(\"span\", {'id':'wUctlAwardQueryPage_grdResult_lblAWARD_ST_ENDc_{}'.format(x)}).text\n",
    "                except:\n",
    "                    self.starend = ''\n",
    "                try:\n",
    "                    self.cost = soup.find(\"span\", {'id':'wUctlAwardQueryPage_grdResult_lblAWARD_TOT_AUD_AMTc_{}'.format(x)}).text\n",
    "                except:\n",
    "                    self.cost = ''\n",
    "                try:\n",
    "                    self.chkey = soup.find(\"span\", {'id':'wUctlAwardQueryPage_grdResult_lblKEYS_CHIc_{}'.format(x)}).text\n",
    "                except:\n",
    "                    self.chkey = ''\n",
    "                try:\n",
    "                    self.engkey = soup.find(\"span\", {'id':'wUctlAwardQueryPage_grdResult_lblKEYS_ENGc_{}'.format(x)}).text\n",
    "                except:\n",
    "                    self.engkey = ''\n",
    "                try:\n",
    "                    self.chabst = soup.find(\"span\", {'id':'wUctlAwardQueryPage_grdResult_lblBRIEF_CHI_Sc_{}'.format(x)}).text\n",
    "                except:\n",
    "                    self.chabst = ''\n",
    "                try:\n",
    "                    self.engabst = soup.find(\"span\", {'id':'wUctlAwardQueryPage_grdResult_lblBRIEF_ENG_Sc_{}'.format(x)}).text\n",
    "                except:\n",
    "                    self.engabst = ''\n",
    "                result_list.append([self.title, self.starend, self.cost, self.chkey, self.engkey, self.chabst, self.engabst])\n",
    "        except:\n",
    "            print(\"爬取資料失敗\")\n",
    "        return result_list\n",
    "        \n",
    "    def roll_page(self):  #翻頁並進入download_file的步驟\n",
    "        page = 1\n",
    "        i = 1\n",
    "        res_process = []\n",
    "        res_all = pd.DataFrame()\n",
    "        while page < self.page_all:\n",
    "            soup = BeautifulSoup(self.browser.page_source, 'lxml')\n",
    "            result_list = self.download_file(soup)\n",
    "            time.sleep(5)\n",
    "            result_df = pd.DataFrame(result_list)\n",
    "            res_process = pd.DataFrame(res_process)\n",
    "            res_process = res_process.append(result_df)\n",
    "            \n",
    "            page = page + 1\n",
    "            i = i + 1\n",
    "            self.browser.find_element(By.ID, \"wUctlAwardQueryPage_grdResult_btnNext\").click()  #點選下一頁\n",
    "            WebDriverWait(self.browser, 30).until(  #等待網頁讀取 直到出現 \"搜尋框\"  可視為「等待」的指令\n",
    "                EC.presence_of_element_located((By.ID, \"wUctlAwardQueryPage_repQuery_txtT_4\")))\n",
    "    \n",
    "            if page == self.page_all:\n",
    "                print(\"此步驟為爬取最終頁資料\")\n",
    "                soup = BeautifulSoup(self.browser.page_source, 'lxml')\n",
    "                result_list = self.download_file(soup)\n",
    "                time.sleep(5)\n",
    "                result_df = pd.DataFrame(result_list)\n",
    "                res_process = pd.DataFrame(res_process)\n",
    "                res_process = res_process.append(result_df)\n",
    "                res_all = res_all.append(res_process)\n",
    "                res_all.columns = ['計畫名稱', '研究期間', '研究經費', '中文關鍵字', '英文關鍵字', '中文摘要', '英文摘要']\n",
    "                try:\n",
    "                    res_all.to_csv(SaveFile_Path + '\\\\' + SaveFile_Name + \"_\" + \"_\" +time.strftime(\"%m%d\") + \"_\" + time.strftime(\"%H%M\") +\".csv\",\n",
    "                    encoding=\"utf_8_sig\",index=False)  #儲存結果\n",
    "                    print(\"存檔成功\")  #最終檔名會加上 1.月份 2.日期 3.時間(時分)\n",
    "                    break\n",
    "                except:\n",
    "                    print(\"存檔失敗，請檢察結果檔是否正在開啟，或處於無法被寫入的狀態。\")\n",
    "                \n",
    "    def close_driver(self):\n",
    "        self.browser.quit()\n",
    "        print('成功爬取MOST{}年度'.format(self.crawler_year))\n",
    "        \n",
    "    def step(self):\n",
    "        self.start()\n",
    "        self.get_page(self.url_to_crawl)\n",
    "        print('正在爬取MOST{}年度'.format(self.crawler_year))\n",
    "        self.search_work()\n",
    "        self.roll_page()\n",
    "        self.close_driver()\n",
    "\n",
    "####################################################################################\n",
    "if __name__ == '__main__':\n",
    "    driver_path = r'C:\\Users\\user\\Desktop\\py\\chromedriver.exe'  #chromedriver位置\n",
    "    SaveFile_Path = r'C:\\Users\\user\\Desktop\\py\\TEST'            #檔案下載位置\n",
    "    SaveFile_Name = r'MOST_ALL'                                 #存檔檔名\n",
    "    crawler_year = '110'                                        #爬取年度\n",
    "\n",
    "    go = MOST_whole_year(driver_path, SaveFile_Path, crawler_year)\n",
    "    go.step()"
   ]
  },
  {
   "cell_type": "code",
   "execution_count": null,
   "id": "9914ac20",
   "metadata": {},
   "outputs": [],
   "source": []
  },
  {
   "cell_type": "code",
   "execution_count": 22,
   "id": "55d52466",
   "metadata": {},
   "outputs": [
    {
     "ename": "NameError",
     "evalue": "name 'result_list' is not defined",
     "output_type": "error",
     "traceback": [
      "\u001b[1;31m---------------------------------------------------------------------------\u001b[0m",
      "\u001b[1;31mNameError\u001b[0m                                 Traceback (most recent call last)",
      "Input \u001b[1;32mIn [22]\u001b[0m, in \u001b[0;36m<cell line: 1>\u001b[1;34m()\u001b[0m\n\u001b[1;32m----> 1\u001b[0m \u001b[43mresult_list\u001b[49m\n",
      "\u001b[1;31mNameError\u001b[0m: name 'result_list' is not defined"
     ]
    }
   ],
   "source": []
  },
  {
   "cell_type": "code",
   "execution_count": null,
   "id": "8a756245",
   "metadata": {},
   "outputs": [],
   "source": [
    "\n"
   ]
  },
  {
   "cell_type": "code",
   "execution_count": null,
   "id": "e3951d5b",
   "metadata": {},
   "outputs": [],
   "source": []
  },
  {
   "cell_type": "code",
   "execution_count": null,
   "id": "2e5ff002",
   "metadata": {},
   "outputs": [],
   "source": []
  },
  {
   "cell_type": "code",
   "execution_count": 53,
   "id": "ff292c17",
   "metadata": {},
   "outputs": [],
   "source": []
  },
  {
   "cell_type": "code",
   "execution_count": null,
   "id": "624aa056",
   "metadata": {},
   "outputs": [],
   "source": []
  },
  {
   "cell_type": "code",
   "execution_count": 54,
   "id": "10c0f65e",
   "metadata": {},
   "outputs": [],
   "source": []
  },
  {
   "cell_type": "code",
   "execution_count": null,
   "id": "24934fd7",
   "metadata": {},
   "outputs": [],
   "source": []
  }
 ],
 "metadata": {
  "kernelspec": {
   "display_name": "Python 3 (ipykernel)",
   "language": "python",
   "name": "python3"
  },
  "language_info": {
   "codemirror_mode": {
    "name": "ipython",
    "version": 3
   },
   "file_extension": ".py",
   "mimetype": "text/x-python",
   "name": "python",
   "nbconvert_exporter": "python",
   "pygments_lexer": "ipython3",
   "version": "3.10.4"
  },
  "toc": {
   "base_numbering": 1,
   "nav_menu": {},
   "number_sections": true,
   "sideBar": true,
   "skip_h1_title": false,
   "title_cell": "Table of Contents",
   "title_sidebar": "Contents",
   "toc_cell": false,
   "toc_position": {},
   "toc_section_display": true,
   "toc_window_display": false
  },
  "varInspector": {
   "cols": {
    "lenName": 16,
    "lenType": 16,
    "lenVar": 40
   },
   "kernels_config": {
    "python": {
     "delete_cmd_postfix": "",
     "delete_cmd_prefix": "del ",
     "library": "var_list.py",
     "varRefreshCmd": "print(var_dic_list())"
    },
    "r": {
     "delete_cmd_postfix": ") ",
     "delete_cmd_prefix": "rm(",
     "library": "var_list.r",
     "varRefreshCmd": "cat(var_dic_list()) "
    }
   },
   "types_to_exclude": [
    "module",
    "function",
    "builtin_function_or_method",
    "instance",
    "_Feature"
   ],
   "window_display": false
  }
 },
 "nbformat": 4,
 "nbformat_minor": 5
}
